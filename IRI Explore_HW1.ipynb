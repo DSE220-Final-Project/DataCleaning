{
 "cells": [
  {
   "cell_type": "code",
   "execution_count": 1,
   "metadata": {
    "collapsed": true
   },
   "outputs": [],
   "source": [
    "import warnings\n",
    "warnings.filterwarnings('ignore')"
   ]
  },
  {
   "cell_type": "code",
   "execution_count": 2,
   "metadata": {
    "collapsed": true
   },
   "outputs": [],
   "source": [
    "import pandas as pd"
   ]
  },
  {
   "cell_type": "code",
   "execution_count": 9,
   "metadata": {
    "collapsed": true
   },
   "outputs": [],
   "source": [
    "dir_path = \"/media/mqh001/Data/DSE220_Project_Iris_dataset/IRI/\""
   ]
  },
  {
   "cell_type": "code",
   "execution_count": 10,
   "metadata": {
    "collapsed": false
   },
   "outputs": [],
   "source": [
    "file11 = dir_path + 'Year1/External/saltsnck/saltsnck_drug_1114_1165'\n",
    "file22 = dir_path + 'Year1/External/saltsnck/saltsnck_groc_1114_1165'"
   ]
  },
  {
   "cell_type": "code",
   "execution_count": 11,
   "metadata": {
    "collapsed": false
   },
   "outputs": [
    {
     "name": "stdout",
     "output_type": "stream",
     "text": [
      "panel_dr.shape = (1092975, 11)\n"
     ]
    },
    {
     "data": {
      "text/html": [
       "<div>\n",
       "<table border=\"1\" class=\"dataframe\">\n",
       "  <thead>\n",
       "    <tr style=\"text-align: right;\">\n",
       "      <th></th>\n",
       "      <th>IRI_KEY</th>\n",
       "      <th>WEEK</th>\n",
       "      <th>SY</th>\n",
       "      <th>GE</th>\n",
       "      <th>VEND</th>\n",
       "      <th>ITEM</th>\n",
       "      <th>UNITS</th>\n",
       "      <th>DOLLARS</th>\n",
       "      <th>F</th>\n",
       "      <th>D</th>\n",
       "      <th>PR</th>\n",
       "    </tr>\n",
       "  </thead>\n",
       "  <tbody>\n",
       "    <tr>\n",
       "      <th>0</th>\n",
       "      <td>664497</td>\n",
       "      <td>1114</td>\n",
       "      <td>0</td>\n",
       "      <td>1</td>\n",
       "      <td>41633</td>\n",
       "      <td>2154</td>\n",
       "      <td>3</td>\n",
       "      <td>2.97</td>\n",
       "      <td>NONE</td>\n",
       "      <td>0</td>\n",
       "      <td>0</td>\n",
       "    </tr>\n",
       "    <tr>\n",
       "      <th>1</th>\n",
       "      <td>664497</td>\n",
       "      <td>1114</td>\n",
       "      <td>0</td>\n",
       "      <td>2</td>\n",
       "      <td>41633</td>\n",
       "      <td>145</td>\n",
       "      <td>6</td>\n",
       "      <td>13.14</td>\n",
       "      <td>NONE</td>\n",
       "      <td>0</td>\n",
       "      <td>0</td>\n",
       "    </tr>\n",
       "    <tr>\n",
       "      <th>2</th>\n",
       "      <td>664497</td>\n",
       "      <td>1114</td>\n",
       "      <td>0</td>\n",
       "      <td>1</td>\n",
       "      <td>41633</td>\n",
       "      <td>2119</td>\n",
       "      <td>3</td>\n",
       "      <td>2.97</td>\n",
       "      <td>NONE</td>\n",
       "      <td>0</td>\n",
       "      <td>0</td>\n",
       "    </tr>\n",
       "    <tr>\n",
       "      <th>3</th>\n",
       "      <td>664497</td>\n",
       "      <td>1114</td>\n",
       "      <td>0</td>\n",
       "      <td>2</td>\n",
       "      <td>41633</td>\n",
       "      <td>135</td>\n",
       "      <td>3</td>\n",
       "      <td>6.57</td>\n",
       "      <td>NONE</td>\n",
       "      <td>0</td>\n",
       "      <td>0</td>\n",
       "    </tr>\n",
       "    <tr>\n",
       "      <th>4</th>\n",
       "      <td>664497</td>\n",
       "      <td>1114</td>\n",
       "      <td>0</td>\n",
       "      <td>1</td>\n",
       "      <td>41633</td>\n",
       "      <td>2140</td>\n",
       "      <td>1</td>\n",
       "      <td>0.99</td>\n",
       "      <td>NONE</td>\n",
       "      <td>0</td>\n",
       "      <td>0</td>\n",
       "    </tr>\n",
       "  </tbody>\n",
       "</table>\n",
       "</div>"
      ],
      "text/plain": [
       "   IRI_KEY  WEEK  SY  GE   VEND  ITEM  UNITS  DOLLARS     F  D  PR\n",
       "0   664497  1114   0   1  41633  2154      3     2.97  NONE  0   0\n",
       "1   664497  1114   0   2  41633   145      6    13.14  NONE  0   0\n",
       "2   664497  1114   0   1  41633  2119      3     2.97  NONE  0   0\n",
       "3   664497  1114   0   2  41633   135      3     6.57  NONE  0   0\n",
       "4   664497  1114   0   1  41633  2140      1     0.99  NONE  0   0"
      ]
     },
     "execution_count": 11,
     "metadata": {},
     "output_type": "execute_result"
    }
   ],
   "source": [
    "#drug\n",
    "panel_dr = pd.read_fwf(file11)\n",
    "print \"panel_dr.shape =\", panel_dr.shape\n",
    "panel_dr.head()"
   ]
  },
  {
   "cell_type": "code",
   "execution_count": null,
   "metadata": {
    "collapsed": false
   },
   "outputs": [],
   "source": [
    "panel_dr.dtypes"
   ]
  },
  {
   "cell_type": "code",
   "execution_count": 20,
   "metadata": {
    "collapsed": false
   },
   "outputs": [
    {
     "name": "stdout",
     "output_type": "stream",
     "text": [
      "Number of items in saltysnack =  2485\n"
     ]
    }
   ],
   "source": [
    "print \"Number of items in saltysnack = \", len(panel_dr['ITEM'].unique())"
   ]
  },
  {
   "cell_type": "code",
   "execution_count": 22,
   "metadata": {
    "collapsed": false
   },
   "outputs": [
    {
     "name": "stdout",
     "output_type": "stream",
     "text": [
      "Number of stores =  413\n"
     ]
    }
   ],
   "source": [
    "print \"Number of stores = \", len(panel_dr['IRI_KEY'].unique())"
   ]
  },
  {
   "cell_type": "code",
   "execution_count": 53,
   "metadata": {
    "collapsed": false
   },
   "outputs": [
    {
     "data": {
      "text/plain": [
       "2154"
      ]
     },
     "execution_count": 53,
     "metadata": {},
     "output_type": "execute_result"
    }
   ],
   "source": [
    "panel_dr['ITEM'][0]"
   ]
  },
  {
   "cell_type": "code",
   "execution_count": 94,
   "metadata": {
    "collapsed": false
   },
   "outputs": [],
   "source": [
    "items = panel_dr.groupby(['ITEM'])['UNITS'].sum()"
   ]
  },
  {
   "cell_type": "code",
   "execution_count": 96,
   "metadata": {
    "collapsed": false
   },
   "outputs": [],
   "source": [
    "items_df = pd.DataFrame(items)"
   ]
  },
  {
   "cell_type": "code",
   "execution_count": 100,
   "metadata": {
    "collapsed": false
   },
   "outputs": [],
   "source": [
    "items_df = items_df.reset_index()"
   ]
  },
  {
   "cell_type": "code",
   "execution_count": 104,
   "metadata": {
    "collapsed": false
   },
   "outputs": [],
   "source": [
    "items_df = items_df.sort(['UNITS', 'ITEM'], ascending=[0, 0])"
   ]
  },
  {
   "cell_type": "code",
   "execution_count": 189,
   "metadata": {
    "collapsed": false
   },
   "outputs": [],
   "source": [
    "top10items = items_df.head(1)"
   ]
  },
  {
   "cell_type": "code",
   "execution_count": 190,
   "metadata": {
    "collapsed": false
   },
   "outputs": [
    {
     "data": {
      "text/plain": [
       "pandas.core.series.Series"
      ]
     },
     "execution_count": 190,
     "metadata": {},
     "output_type": "execute_result"
    }
   ],
   "source": [
    "type(top10items['UNITS'])"
   ]
  },
  {
   "cell_type": "code",
   "execution_count": 191,
   "metadata": {
    "collapsed": false
   },
   "outputs": [
    {
     "name": "stdout",
     "output_type": "stream",
     "text": [
      "/media/mqh001/Data/DSE220_Project_Iris_dataset/IRI/parsed_stub_files/prod_saltsnck.xls\r\n"
     ]
    }
   ],
   "source": [
    "!ls $stub_file"
   ]
  },
  {
   "cell_type": "code",
   "execution_count": 192,
   "metadata": {
    "collapsed": true
   },
   "outputs": [],
   "source": [
    "stub_file = dir_path + 'parsed_stub_files/prod_saltsnck.xls'"
   ]
  },
  {
   "cell_type": "code",
   "execution_count": 193,
   "metadata": {
    "collapsed": false
   },
   "outputs": [
    {
     "name": "stdout",
     "output_type": "stream",
     "text": [
      "/media/mqh001/Data/DSE220_Project_Iris_dataset/IRI/parsed stub files/prod_saltsnck.xls\r\n"
     ]
    }
   ],
   "source": [
    "!ls /media/mqh001/Data/DSE220_Project_Iris_dataset/IRI/parsed\\ stub\\ files/prod_saltsnck.xls"
   ]
  },
  {
   "cell_type": "code",
   "execution_count": 194,
   "metadata": {
    "collapsed": false
   },
   "outputs": [
    {
     "name": "stdout",
     "output_type": "stream",
     "text": [
      "/media/mqh001/Data/DSE220_Project_Iris_dataset/IRI/parsed_stub_files/prod_saltsnck.xls\n"
     ]
    }
   ],
   "source": [
    "print stub_file"
   ]
  },
  {
   "cell_type": "code",
   "execution_count": 195,
   "metadata": {
    "collapsed": false
   },
   "outputs": [],
   "source": [
    "#stub_file_df = pd.read_fwf(stub_file)"
   ]
  },
  {
   "cell_type": "code",
   "execution_count": 196,
   "metadata": {
    "collapsed": false
   },
   "outputs": [
    {
     "data": {
      "text/plain": [
       "pandas.core.series.Series"
      ]
     },
     "execution_count": 196,
     "metadata": {},
     "output_type": "execute_result"
    }
   ],
   "source": [
    "type(top10items['UNITS'])"
   ]
  },
  {
   "cell_type": "code",
   "execution_count": 197,
   "metadata": {
    "collapsed": false
   },
   "outputs": [
    {
     "data": {
      "text/plain": [
       "(1092975, 1)"
      ]
     },
     "execution_count": 197,
     "metadata": {},
     "output_type": "execute_result"
    }
   ],
   "source": [
    "len(panel_dr), len(top10items)"
   ]
  },
  {
   "cell_type": "code",
   "execution_count": 198,
   "metadata": {
    "collapsed": false
   },
   "outputs": [],
   "source": [
    "df_top10 = top10items.merge(panel_dr, how='left', on='ITEM')"
   ]
  },
  {
   "cell_type": "code",
   "execution_count": 200,
   "metadata": {
    "collapsed": false
   },
   "outputs": [
    {
     "name": "stdout",
     "output_type": "stream",
     "text": [
      "df_top10.shape = (7148, 12)\n"
     ]
    }
   ],
   "source": [
    "print \"df_top10.shape =\", df_top10.shape\n",
    "#df_top10"
   ]
  },
  {
   "cell_type": "code",
   "execution_count": 201,
   "metadata": {
    "collapsed": false
   },
   "outputs": [
    {
     "name": "stdout",
     "output_type": "stream",
     "text": [
      "295.31 0.5\n"
     ]
    }
   ],
   "source": [
    "print df_top10['DOLLARS'].max(), df_top10['DOLLARS'].min()"
   ]
  },
  {
   "cell_type": "code",
   "execution_count": 203,
   "metadata": {
    "collapsed": false
   },
   "outputs": [
    {
     "data": {
      "text/html": [
       "<div>\n",
       "<table border=\"1\" class=\"dataframe\">\n",
       "  <thead>\n",
       "    <tr style=\"text-align: right;\">\n",
       "      <th></th>\n",
       "      <th>ITEM</th>\n",
       "      <th>UNITS_x</th>\n",
       "      <th>IRI_KEY</th>\n",
       "      <th>WEEK</th>\n",
       "      <th>SY</th>\n",
       "      <th>GE</th>\n",
       "      <th>VEND</th>\n",
       "      <th>UNITS_y</th>\n",
       "      <th>DOLLARS</th>\n",
       "      <th>F</th>\n",
       "      <th>D</th>\n",
       "      <th>PR</th>\n",
       "    </tr>\n",
       "  </thead>\n",
       "  <tbody>\n",
       "    <tr>\n",
       "      <th>2039</th>\n",
       "      <td>999</td>\n",
       "      <td>135743</td>\n",
       "      <td>8042539</td>\n",
       "      <td>1126</td>\n",
       "      <td>0</td>\n",
       "      <td>3</td>\n",
       "      <td>28400</td>\n",
       "      <td>336</td>\n",
       "      <td>295.31</td>\n",
       "      <td>NONE</td>\n",
       "      <td>2</td>\n",
       "      <td>1</td>\n",
       "    </tr>\n",
       "  </tbody>\n",
       "</table>\n",
       "</div>"
      ],
      "text/plain": [
       "      ITEM  UNITS_x  IRI_KEY  WEEK  SY  GE   VEND  UNITS_y  DOLLARS     F  D  \\\n",
       "2039   999   135743  8042539  1126   0   3  28400      336   295.31  NONE  2   \n",
       "\n",
       "      PR  \n",
       "2039   1  "
      ]
     },
     "execution_count": 203,
     "metadata": {},
     "output_type": "execute_result"
    }
   ],
   "source": [
    "df_top10[df_top10['DOLLARS']==295.31]"
   ]
  },
  {
   "cell_type": "code",
   "execution_count": 204,
   "metadata": {
    "collapsed": true
   },
   "outputs": [],
   "source": [
    "df_top10['DOLLARS_AVG'] = df_top10['DOLLARS']/df_top10['UNITS_y']"
   ]
  },
  {
   "cell_type": "code",
   "execution_count": 210,
   "metadata": {
    "collapsed": false
   },
   "outputs": [
    {
     "name": "stdout",
     "output_type": "stream",
     "text": [
      "Price range from $0.346 to $1.188\n"
     ]
    }
   ],
   "source": [
    "print \"Price range from $%.3f to $%.3f\" % (df_top10['DOLLARS_AVG'].min(),df_top10['DOLLARS_AVG'].max())"
   ]
  },
  {
   "cell_type": "code",
   "execution_count": null,
   "metadata": {
    "collapsed": true
   },
   "outputs": [],
   "source": []
  }
 ],
 "metadata": {
  "kernelspec": {
   "display_name": "Python 2",
   "language": "python",
   "name": "python2"
  },
  "language_info": {
   "codemirror_mode": {
    "name": "ipython",
    "version": 2
   },
   "file_extension": ".py",
   "mimetype": "text/x-python",
   "name": "python",
   "nbconvert_exporter": "python",
   "pygments_lexer": "ipython2",
   "version": "2.7.11"
  }
 },
 "nbformat": 4,
 "nbformat_minor": 0
}
