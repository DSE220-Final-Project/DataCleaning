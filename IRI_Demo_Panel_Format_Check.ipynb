{
 "cells": [
  {
   "cell_type": "code",
   "execution_count": 1,
   "metadata": {
    "collapsed": true
   },
   "outputs": [],
   "source": [
    "import warnings\n",
    "warnings.filterwarnings('ignore')"
   ]
  },
  {
   "cell_type": "code",
   "execution_count": 2,
   "metadata": {
    "collapsed": true
   },
   "outputs": [],
   "source": [
    "import pandas as pd"
   ]
  },
  {
   "cell_type": "code",
   "execution_count": 3,
   "metadata": {
    "collapsed": true
   },
   "outputs": [],
   "source": [
    "dir_path = \"/media/mqh001/Data/DSE220_Project_Iris_dataset/IRI/\""
   ]
  },
  {
   "cell_type": "code",
   "execution_count": 12,
   "metadata": {
    "collapsed": false
   },
   "outputs": [
    {
     "name": "stdout",
     "output_type": "stream",
     "text": [
      "/media/mqh001/Data/DSE220_Project_Iris_dataset/IRI/demos_trips_external_1_11_may13/ads demo1.csv\r\n"
     ]
    }
   ],
   "source": [
    "!ls /media/mqh001/Data/DSE220_Project_Iris_dataset/IRI/demos_trips_external_1_11_may13/ads\\ demos_trips_external_1_11_may13"
   ]
  },
  {
   "cell_type": "markdown",
   "metadata": {},
   "source": [
    "### Manual play with each csv file and check its format"
   ]
  },
  {
   "cell_type": "code",
   "execution_count": 61,
   "metadata": {
    "collapsed": false
   },
   "outputs": [
    {
     "name": "stdout",
     "output_type": "stream",
     "text": [
      "(4171, 38)\n"
     ]
    }
   ],
   "source": [
    "trips = pd.read_csv(\\\n",
    "        \"/media/mqh001/Data/DSE220_Project_Iris_dataset/IRITest/demos_trips_external_1_11_may13/ads demos11.CSV\")\n",
    "#Upper case CSV spreadsheet are the demos: 6, 8, 9 and 10\n",
    "#Different format \"called format2\" are the demos: 8, 9, 10 and 11\n",
    "print trips.shape"
   ]
  },
  {
   "cell_type": "code",
   "execution_count": 62,
   "metadata": {
    "collapsed": false
   },
   "outputs": [],
   "source": [
    "trips_columns11 = trips.columns"
   ]
  },
  {
   "cell_type": "code",
   "execution_count": 63,
   "metadata": {
    "collapsed": false
   },
   "outputs": [
    {
     "data": {
      "text/plain": [
       "['HH_RACE',\n",
       " 'HH_AGE',\n",
       " 'HH_EDU',\n",
       " 'HH_OCC',\n",
       " 'Language',\n",
       " 'Number of TVs Used by HH',\n",
       " 'Number of TVs Hooked to Cable',\n",
       " 'Year',\n",
       " 'HISP_FLAG',\n",
       " 'HISP_CAT',\n",
       " 'HH Head Race (RACE2)',\n",
       " 'HH Head Race (RACE3)',\n",
       " 'Microwave Owned by HH']"
      ]
     },
     "execution_count": 63,
     "metadata": {},
     "output_type": "execute_result"
    }
   ],
   "source": [
    "[i for i, j in zip(trips_columns1, trips_columns11) if i != j]"
   ]
  },
  {
   "cell_type": "code",
   "execution_count": 64,
   "metadata": {
    "collapsed": false
   },
   "outputs": [
    {
     "data": {
      "text/plain": [
       "[]"
      ]
     },
     "execution_count": 64,
     "metadata": {},
     "output_type": "execute_result"
    }
   ],
   "source": [
    "[i for i, j in zip(trips_columns8, trips_columns11) if i != j]"
   ]
  },
  {
   "cell_type": "code",
   "execution_count": 70,
   "metadata": {
    "collapsed": false
   },
   "outputs": [
    {
     "data": {
      "text/plain": [
       "Index([u'Panelist ID', u'Panelist Type', u'Combined Pre-Tax Income of HH',\n",
       "       u'Family Size', u'HH_RACE', u'Type of Residential Possession',\n",
       "       u'COUNTY', u'HH_AGE', u'HH_EDU', u'HH_OCC',\n",
       "       u'Age Group Applied to Male HH', u'Education Level Reached by Male HH',\n",
       "       u'Occupation Code of Male HH', u'Male Working Hour Code', u'MALE_SMOKE',\n",
       "       u'Age Group Applied to Female HH',\n",
       "       u'Education Level Reached by Female HH',\n",
       "       u'Occupation Code of Female HH', u'Female Working Hour Code',\n",
       "       u'FEM_SMOKE', u'Number of Dogs', u'Number of Cats',\n",
       "       u'Children Group Code', u'Marital Status', u'Language',\n",
       "       u'Number of TVs Used by HH', u'Number of TVs Hooked to Cable', u'Year',\n",
       "       u'HISP_FLAG', u'HISP_CAT', u'HH Head Race (RACE2)',\n",
       "       u'HH Head Race (RACE3)', u'Microwave Owned by HH', u'ZIPCODE',\n",
       "       u'FIPSCODE', u'market based upon zipcode', u'IRI Geography Number',\n",
       "       u'EXT_FACT'],\n",
       "      dtype='object')"
      ]
     },
     "execution_count": 70,
     "metadata": {},
     "output_type": "execute_result"
    }
   ],
   "source": [
    "trips_columns1"
   ]
  },
  {
   "cell_type": "code",
   "execution_count": 114,
   "metadata": {
    "collapsed": false
   },
   "outputs": [
    {
     "data": {
      "text/plain": [
       "Index([u'Panelist ID', u'Panelist Type', u'Combined Pre-Tax Income of HH',\n",
       "       u'Family Size', u'Household Head Race',\n",
       "       u'Type of Residential Possession', u'COUNTY',\n",
       "       u'Age Group Applied to Household Head',\n",
       "       u'Education Level Reached by Household Head',\n",
       "       u'Occupation Code of Household Head', u'Age Group Applied to Male HH',\n",
       "       u'Education Level Reached by Male HH', u'Occupation Code of Male HH',\n",
       "       u'Male Working Hour Code', u'MALE_SMOKE',\n",
       "       u'Age Group Applied to Female HH',\n",
       "       u'Education Level Reached by Female HH',\n",
       "       u'Occupation Code of Female HH', u'Female Working Hour Code',\n",
       "       u'FEM_SMOKE', u'Number of Dogs', u'Number of Cats',\n",
       "       u'Children Group Code', u'Marital Status', u'HH_LANG', u'ALL_TVS',\n",
       "       u'CABL_TVS', u'Hispanic Flag', u'HISP_CAT', u'RACE2', u'RACE3',\n",
       "       u'MICROWAVE', u'device_type', u'ZIPCODE', u'FIPSCODE',\n",
       "       u'market based upon zipcode', u'IRI Geography Number', u'EXT_FACT'],\n",
       "      dtype='object')"
      ]
     },
     "execution_count": 114,
     "metadata": {},
     "output_type": "execute_result"
    }
   ],
   "source": [
    "trips_columns8"
   ]
  },
  {
   "cell_type": "code",
   "execution_count": 66,
   "metadata": {
    "collapsed": false
   },
   "outputs": [
    {
     "data": {
      "text/html": [
       "<div>\n",
       "<table border=\"1\" class=\"dataframe\">\n",
       "  <thead>\n",
       "    <tr style=\"text-align: right;\">\n",
       "      <th></th>\n",
       "      <th>Panelist ID</th>\n",
       "      <th>Panelist Type</th>\n",
       "      <th>Combined Pre-Tax Income of HH</th>\n",
       "      <th>Family Size</th>\n",
       "      <th>Household Head Race</th>\n",
       "      <th>Type of Residential Possession</th>\n",
       "      <th>COUNTY</th>\n",
       "      <th>Age Group Applied to Household Head</th>\n",
       "      <th>Education Level Reached by Household Head</th>\n",
       "      <th>Occupation Code of Household Head</th>\n",
       "      <th>...</th>\n",
       "      <th>HISP_CAT</th>\n",
       "      <th>RACE2</th>\n",
       "      <th>RACE3</th>\n",
       "      <th>MICROWAVE</th>\n",
       "      <th>device_type</th>\n",
       "      <th>ZIPCODE</th>\n",
       "      <th>FIPSCODE</th>\n",
       "      <th>market based upon zipcode</th>\n",
       "      <th>IRI Geography Number</th>\n",
       "      <th>EXT_FACT</th>\n",
       "    </tr>\n",
       "  </thead>\n",
       "  <tbody>\n",
       "    <tr>\n",
       "      <th>0</th>\n",
       "      <td>1100016</td>\n",
       "      <td>5</td>\n",
       "      <td>2</td>\n",
       "      <td>2</td>\n",
       "      <td>1</td>\n",
       "      <td>1</td>\n",
       "      <td></td>\n",
       "      <td>6</td>\n",
       "      <td>3</td>\n",
       "      <td>10</td>\n",
       "      <td>...</td>\n",
       "      <td>.</td>\n",
       "      <td>1</td>\n",
       "      <td>1</td>\n",
       "      <td>.</td>\n",
       "      <td>2</td>\n",
       "      <td>1201</td>\n",
       "      <td>25003</td>\n",
       "      <td>204</td>\n",
       "      <td>1</td>\n",
       "      <td>1</td>\n",
       "    </tr>\n",
       "    <tr>\n",
       "      <th>1</th>\n",
       "      <td>1100032</td>\n",
       "      <td>0</td>\n",
       "      <td>6</td>\n",
       "      <td>2</td>\n",
       "      <td>1</td>\n",
       "      <td>1</td>\n",
       "      <td>3</td>\n",
       "      <td>5</td>\n",
       "      <td>5</td>\n",
       "      <td>5</td>\n",
       "      <td>...</td>\n",
       "      <td>.</td>\n",
       "      <td>1</td>\n",
       "      <td>1</td>\n",
       "      <td>1</td>\n",
       "      <td>0</td>\n",
       "      <td>1201</td>\n",
       "      <td>25003</td>\n",
       "      <td>204</td>\n",
       "      <td>1</td>\n",
       "      <td>1</td>\n",
       "    </tr>\n",
       "    <tr>\n",
       "      <th>2</th>\n",
       "      <td>1100057</td>\n",
       "      <td>0</td>\n",
       "      <td>5</td>\n",
       "      <td>1</td>\n",
       "      <td>1</td>\n",
       "      <td>1</td>\n",
       "      <td>3</td>\n",
       "      <td>6</td>\n",
       "      <td>4</td>\n",
       "      <td>3</td>\n",
       "      <td>...</td>\n",
       "      <td>.</td>\n",
       "      <td>1</td>\n",
       "      <td>1</td>\n",
       "      <td>1</td>\n",
       "      <td>0</td>\n",
       "      <td>1201</td>\n",
       "      <td>25003</td>\n",
       "      <td>204</td>\n",
       "      <td>1</td>\n",
       "      <td>1</td>\n",
       "    </tr>\n",
       "    <tr>\n",
       "      <th>3</th>\n",
       "      <td>1100180</td>\n",
       "      <td>5</td>\n",
       "      <td>11</td>\n",
       "      <td>2</td>\n",
       "      <td>1</td>\n",
       "      <td>1</td>\n",
       "      <td>3</td>\n",
       "      <td>5</td>\n",
       "      <td>5</td>\n",
       "      <td>1</td>\n",
       "      <td>...</td>\n",
       "      <td>.</td>\n",
       "      <td>1</td>\n",
       "      <td>1</td>\n",
       "      <td>1</td>\n",
       "      <td>7</td>\n",
       "      <td>1201</td>\n",
       "      <td>25003</td>\n",
       "      <td>204</td>\n",
       "      <td>1</td>\n",
       "      <td>1</td>\n",
       "    </tr>\n",
       "  </tbody>\n",
       "</table>\n",
       "<p>4 rows × 38 columns</p>\n",
       "</div>"
      ],
      "text/plain": [
       "   Panelist ID  Panelist Type Combined Pre-Tax Income of HH  Family Size  \\\n",
       "0      1100016              5                             2            2   \n",
       "1      1100032              0                             6            2   \n",
       "2      1100057              0                             5            1   \n",
       "3      1100180              5                            11            2   \n",
       "\n",
       "   Household Head Race  Type of Residential Possession COUNTY  \\\n",
       "0                    1                               1          \n",
       "1                    1                               1      3   \n",
       "2                    1                               1      3   \n",
       "3                    1                               1      3   \n",
       "\n",
       "  Age Group Applied to Household Head  \\\n",
       "0                                   6   \n",
       "1                                   5   \n",
       "2                                   6   \n",
       "3                                   5   \n",
       "\n",
       "  Education Level Reached by Household Head Occupation Code of Household Head  \\\n",
       "0                                         3                                10   \n",
       "1                                         5                                 5   \n",
       "2                                         4                                 3   \n",
       "3                                         5                                 1   \n",
       "\n",
       "    ...     HISP_CAT  RACE2  RACE3  MICROWAVE device_type  ZIPCODE  FIPSCODE  \\\n",
       "0   ...            .      1      1          .           2     1201     25003   \n",
       "1   ...            .      1      1          1           0     1201     25003   \n",
       "2   ...            .      1      1          1           0     1201     25003   \n",
       "3   ...            .      1      1          1           7     1201     25003   \n",
       "\n",
       "   market based upon zipcode  IRI Geography Number EXT_FACT  \n",
       "0                        204                     1        1  \n",
       "1                        204                     1        1  \n",
       "2                        204                     1        1  \n",
       "3                        204                     1        1  \n",
       "\n",
       "[4 rows x 38 columns]"
      ]
     },
     "execution_count": 66,
     "metadata": {},
     "output_type": "execute_result"
    }
   ],
   "source": [
    "trips.head(4)"
   ]
  },
  {
   "cell_type": "code",
   "execution_count": 71,
   "metadata": {
    "collapsed": true
   },
   "outputs": [],
   "source": [
    "set1 = set(trips_columns1)\n",
    "set11 = set(trips_columns11)"
   ]
  },
  {
   "cell_type": "code",
   "execution_count": 73,
   "metadata": {
    "collapsed": false
   },
   "outputs": [
    {
     "name": "stdout",
     "output_type": "stream",
     "text": [
      "False\n"
     ]
    }
   ],
   "source": [
    "if set1 == set11:\n",
    "    value = True\n",
    "else:\n",
    "    value = False\n",
    "print value"
   ]
  },
  {
   "cell_type": "code",
   "execution_count": 81,
   "metadata": {
    "collapsed": false
   },
   "outputs": [
    {
     "data": {
      "text/plain": [
       "['Age Group Applied to Female HH',\n",
       " 'Age Group Applied to Male HH',\n",
       " 'COUNTY',\n",
       " 'Children Group Code',\n",
       " 'Combined Pre-Tax Income of HH',\n",
       " 'EXT_FACT',\n",
       " 'Education Level Reached by Female HH',\n",
       " 'Education Level Reached by Male HH',\n",
       " 'FEM_SMOKE',\n",
       " 'FIPSCODE',\n",
       " 'Family Size',\n",
       " 'Female Working Hour Code',\n",
       " 'HH Head Race (RACE2)',\n",
       " 'HH Head Race (RACE3)',\n",
       " 'HH_AGE',\n",
       " 'HH_EDU',\n",
       " 'HH_OCC',\n",
       " 'HH_RACE',\n",
       " 'HISP_CAT',\n",
       " 'HISP_FLAG',\n",
       " 'IRI Geography Number',\n",
       " 'Language',\n",
       " 'MALE_SMOKE',\n",
       " 'Male Working Hour Code',\n",
       " 'Marital Status',\n",
       " 'Microwave Owned by HH',\n",
       " 'Number of Cats',\n",
       " 'Number of Dogs',\n",
       " 'Number of TVs Hooked to Cable',\n",
       " 'Number of TVs Used by HH',\n",
       " 'Occupation Code of Female HH',\n",
       " 'Occupation Code of Male HH',\n",
       " 'Panelist ID',\n",
       " 'Panelist Type',\n",
       " 'Type of Residential Possession',\n",
       " 'Year',\n",
       " 'ZIPCODE',\n",
       " 'market based upon zipcode']"
      ]
     },
     "execution_count": 81,
     "metadata": {},
     "output_type": "execute_result"
    }
   ],
   "source": [
    "sorted(set1)"
   ]
  },
  {
   "cell_type": "code",
   "execution_count": 111,
   "metadata": {
    "collapsed": false
   },
   "outputs": [],
   "source": [
    "inlist = []\n",
    "notinlist = []\n",
    "for i in trips_columns1:\n",
    "    if i not in set11:\n",
    "        notinlist.append(i)\n",
    "    else:\n",
    "        inlist.append(i)    "
   ]
  },
  {
   "cell_type": "code",
   "execution_count": 113,
   "metadata": {
    "collapsed": false
   },
   "outputs": [
    {
     "data": {
      "text/plain": [
       "['HH_RACE',\n",
       " 'HH_AGE',\n",
       " 'HH_EDU',\n",
       " 'HH_OCC',\n",
       " 'Language',\n",
       " 'Number of TVs Used by HH',\n",
       " 'Number of TVs Hooked to Cable',\n",
       " 'Year',\n",
       " 'HISP_FLAG',\n",
       " 'HH Head Race (RACE2)',\n",
       " 'HH Head Race (RACE3)',\n",
       " 'Microwave Owned by HH']"
      ]
     },
     "execution_count": 113,
     "metadata": {},
     "output_type": "execute_result"
    }
   ],
   "source": [
    "notinlist"
   ]
  },
  {
   "cell_type": "code",
   "execution_count": 83,
   "metadata": {
    "collapsed": false
   },
   "outputs": [
    {
     "data": {
      "text/plain": [
       "{'ALL_TVS',\n",
       " 'Age Group Applied to Female HH',\n",
       " 'Age Group Applied to Household Head',\n",
       " 'Age Group Applied to Male HH',\n",
       " 'CABL_TVS',\n",
       " 'COUNTY',\n",
       " 'Children Group Code',\n",
       " 'Combined Pre-Tax Income of HH',\n",
       " 'EXT_FACT',\n",
       " 'Education Level Reached by Female HH',\n",
       " 'Education Level Reached by Household Head',\n",
       " 'Education Level Reached by Male HH',\n",
       " 'FEM_SMOKE',\n",
       " 'FIPSCODE',\n",
       " 'Family Size',\n",
       " 'Female Working Hour Code',\n",
       " 'HH_LANG',\n",
       " 'HISP_CAT',\n",
       " 'Hispanic Flag',\n",
       " 'Household Head Race',\n",
       " 'IRI Geography Number',\n",
       " 'MALE_SMOKE',\n",
       " 'MICROWAVE',\n",
       " 'Male Working Hour Code',\n",
       " 'Marital Status',\n",
       " 'Number of Cats',\n",
       " 'Number of Dogs',\n",
       " 'Occupation Code of Female HH',\n",
       " 'Occupation Code of Household Head',\n",
       " 'Occupation Code of Male HH',\n",
       " 'Panelist ID',\n",
       " 'Panelist Type',\n",
       " 'RACE2',\n",
       " 'RACE3',\n",
       " 'Type of Residential Possession',\n",
       " 'ZIPCODE',\n",
       " 'device_type',\n",
       " 'market based upon zipcode'}"
      ]
     },
     "execution_count": 83,
     "metadata": {},
     "output_type": "execute_result"
    }
   ],
   "source": [
    "set11"
   ]
  },
  {
   "cell_type": "code",
   "execution_count": 78,
   "metadata": {
    "collapsed": false
   },
   "outputs": [
    {
     "data": {
      "text/plain": [
       "[('Age Group Applied to Female HH', 'ALL_TVS'),\n",
       " ('Age Group Applied to Male HH', 'Age Group Applied to Female HH'),\n",
       " ('COUNTY', 'Age Group Applied to Household Head'),\n",
       " ('Children Group Code', 'Age Group Applied to Male HH'),\n",
       " ('Combined Pre-Tax Income of HH', 'CABL_TVS'),\n",
       " ('EXT_FACT', 'COUNTY'),\n",
       " ('Education Level Reached by Female HH', 'Children Group Code'),\n",
       " ('Education Level Reached by Male HH', 'Combined Pre-Tax Income of HH'),\n",
       " ('FEM_SMOKE', 'EXT_FACT'),\n",
       " ('FIPSCODE', 'Education Level Reached by Female HH'),\n",
       " ('Family Size', 'Education Level Reached by Household Head'),\n",
       " ('Female Working Hour Code', 'Education Level Reached by Male HH'),\n",
       " ('HH Head Race (RACE2)', 'FEM_SMOKE'),\n",
       " ('HH Head Race (RACE3)', 'FIPSCODE'),\n",
       " ('HH_AGE', 'Family Size'),\n",
       " ('HH_EDU', 'Female Working Hour Code'),\n",
       " ('HH_OCC', 'HH_LANG'),\n",
       " ('HH_RACE', 'HISP_CAT'),\n",
       " ('HISP_CAT', 'Hispanic Flag'),\n",
       " ('HISP_FLAG', 'Household Head Race'),\n",
       " ('Language', 'MALE_SMOKE'),\n",
       " ('MALE_SMOKE', 'MICROWAVE'),\n",
       " ('Microwave Owned by HH', 'Number of Cats'),\n",
       " ('Number of Cats', 'Number of Dogs'),\n",
       " ('Number of Dogs', 'Occupation Code of Female HH'),\n",
       " ('Number of TVs Hooked to Cable', 'Occupation Code of Household Head'),\n",
       " ('Number of TVs Used by HH', 'Occupation Code of Male HH'),\n",
       " ('Occupation Code of Female HH', 'Panelist ID'),\n",
       " ('Occupation Code of Male HH', 'Panelist Type'),\n",
       " ('Panelist ID', 'RACE2'),\n",
       " ('Panelist Type', 'RACE3'),\n",
       " ('Year', 'ZIPCODE'),\n",
       " ('ZIPCODE', 'device_type')]"
      ]
     },
     "execution_count": 78,
     "metadata": {},
     "output_type": "execute_result"
    }
   ],
   "source": [
    "[(i, j) for i, j in zip(sorted(set1), sorted(set11)) if i != j]"
   ]
  }
 ],
 "metadata": {
  "kernelspec": {
   "display_name": "Python 2",
   "language": "python",
   "name": "python2"
  },
  "language_info": {
   "codemirror_mode": {
    "name": "ipython",
    "version": 2
   },
   "file_extension": ".py",
   "mimetype": "text/x-python",
   "name": "python",
   "nbconvert_exporter": "python",
   "pygments_lexer": "ipython2",
   "version": "2.7.11"
  }
 },
 "nbformat": 4,
 "nbformat_minor": 0
}
